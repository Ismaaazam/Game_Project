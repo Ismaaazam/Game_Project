{
 "cells": [
  {
   "cell_type": "code",
   "execution_count": null,
   "metadata": {},
   "outputs": [],
   "source": [
    "import random\n",
    "words=[\"hello\",\"garden\",\"sky\"]\n",
    "name=input(\"Please Enter Your Name : \")\n",
    "word=random.choice(words)\n",
    "print(f\"Welcome {name}!\\nGuess the word To Win Game\")\n",
    "turns=10\n",
    "print(\"Guess the Character\")\n",
    "guess=''\n",
    "while(turns>0):\n",
    "     \n",
    "    for option in word:\n",
    "        fail=0\n",
    "        if option in guess:\n",
    "            print(option,end=\" \")\n",
    "        else: \n",
    "         print(\"____\")\n",
    "         fail+=1\n",
    "\n",
    "    if fail== 0:\n",
    "        print(\"You Win!\")\n",
    "        print(f\"The Word is : {word}\" )\n",
    "        break\n",
    "   \n",
    "    print()\n",
    "    option=input(\"Guess a Character : \")\n",
    "    guess+=option\n",
    "\n",
    "    if option not in word:\n",
    "\n",
    "        turns-=1\n",
    "        print(\"Wrong Guess\")\n",
    "        print(f\"You Have {turns} left Only  \")\n",
    "\n",
    "    \n",
    "    if turns ==  0:\n",
    "        print(\"You Loose!\")        \n",
    "        \n"
   ],
   "id": "3b8baa79-0b0f-4177-a698-daaec0aa9c6c"
  }
 ],
 "nbformat": 4,
 "nbformat_minor": 5,
 "metadata": {
  "kernelspec": {
   "name": "python3",
   "display_name": "Python 3",
   "language": "python"
  },
  "language_info": {
   "name": "python",
   "version": "3.11.1"
  },
  "orig_nbformat": "4"
 }
}
